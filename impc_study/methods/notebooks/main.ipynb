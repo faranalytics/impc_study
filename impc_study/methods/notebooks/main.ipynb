{
 "cells": [
  {
   "cell_type": "code",
   "execution_count": 2,
   "metadata": {},
   "outputs": [],
   "source": [
    "import json\n",
    "import pandas as pd\n",
    "import requests as reqs\n",
    "from impc_study.methods.utils import query\n",
    "\n",
    "# Import the path of each sub-package.\n",
    "from impc_study.materials import MATERIALS_PATH\n",
    "from impc_study.methods import METHODS_PATH\n",
    "from impc_study.results import RESULTS_PATH"
   ]
  },
  {
   "cell_type": "code",
   "execution_count": 3,
   "metadata": {},
   "outputs": [
    {
     "data": {
      "text/plain": [
       "['_version_',\n",
       " 'age_in_days',\n",
       " 'age_in_weeks',\n",
       " 'allele_accession_id',\n",
       " 'allele_symbol',\n",
       " 'allelic_composition',\n",
       " 'anatomy_id',\n",
       " 'anatomy_id_term',\n",
       " 'anatomy_term',\n",
       " 'anatomy_term_synonym',\n",
       " 'biological_model_id',\n",
       " 'biological_sample_group',\n",
       " 'biological_sample_id',\n",
       " 'category',\n",
       " 'child_anatomy_id',\n",
       " 'child_anatomy_term',\n",
       " 'child_anatomy_term_synonym',\n",
       " 'colony_id',\n",
       " 'data_point',\n",
       " 'data_type',\n",
       " 'datasource_id',\n",
       " 'datasource_name',\n",
       " 'date_of_birth',\n",
       " 'date_of_experiment',\n",
       " 'developmental_stage_acc',\n",
       " 'developmental_stage_name',\n",
       " 'dimension',\n",
       " 'discrete_point',\n",
       " 'download_file_path',\n",
       " 'experiment_id',\n",
       " 'experiment_source_id',\n",
       " 'external_sample_id',\n",
       " 'file_type',\n",
       " 'gene_accession_id',\n",
       " 'gene_symbol',\n",
       " 'genetic_background',\n",
       " 'id',\n",
       " 'image_link',\n",
       " 'increment_value',\n",
       " 'intermediate_anatomy_id',\n",
       " 'intermediate_anatomy_term',\n",
       " 'intermediate_anatomy_term_synonym',\n",
       " 'life_stage_acc',\n",
       " 'life_stage_name',\n",
       " 'litter_id',\n",
       " 'metadata',\n",
       " 'metadata_group',\n",
       " 'observation_id',\n",
       " 'observation_type',\n",
       " 'order_index',\n",
       " 'parameter_association_dim_id',\n",
       " 'parameter_association_name',\n",
       " 'parameter_association_sequence_id',\n",
       " 'parameter_association_stable_id',\n",
       " 'parameter_association_value',\n",
       " 'parameter_id',\n",
       " 'parameter_name',\n",
       " 'parameter_stable_id',\n",
       " 'parent_anatomy_id',\n",
       " 'parent_anatomy_term',\n",
       " 'parent_anatomy_term_synonym',\n",
       " 'phenotyping_center',\n",
       " 'phenotyping_center_id',\n",
       " 'pipeline_id',\n",
       " 'pipeline_name',\n",
       " 'pipeline_stable_id',\n",
       " 'procedure_group',\n",
       " 'procedure_id',\n",
       " 'procedure_name',\n",
       " 'procedure_sequence_id',\n",
       " 'procedure_stable_id',\n",
       " 'production_center',\n",
       " 'production_center_id',\n",
       " 'project_id',\n",
       " 'project_name',\n",
       " 'raw_category',\n",
       " 'selected_top_level_anatomy_id',\n",
       " 'selected_top_level_anatomy_term',\n",
       " 'selected_top_level_anatomy_term_synonym',\n",
       " 'sex',\n",
       " 'specimen_id',\n",
       " 'specimen_project_id',\n",
       " 'specimen_project_name',\n",
       " 'strain_accession_id',\n",
       " 'strain_name',\n",
       " 'sub_term_description',\n",
       " 'sub_term_id',\n",
       " 'sub_term_name',\n",
       " 'text_value',\n",
       " 'time_point',\n",
       " 'top_level_anatomy_id',\n",
       " 'top_level_anatomy_term',\n",
       " 'top_level_anatomy_term_synonym',\n",
       " 'weight',\n",
       " 'weight_date',\n",
       " 'weight_days_old',\n",
       " 'weight_parameter_stable_id',\n",
       " 'zygosity']"
      ]
     },
     "execution_count": 3,
     "metadata": {},
     "output_type": "execute_result"
    }
   ],
   "source": [
    "res = reqs.get(\"http://localhost:8983/solr/experiment/schema/fields\")\n",
    "\n",
    "fields = []\n",
    "for field in res.json()['fields']:\n",
    "    fields.append(field['name'])\n",
    "\n",
    "fields"
   ]
  },
  {
   "cell_type": "code",
   "execution_count": 4,
   "metadata": {},
   "outputs": [
    {
     "data": {
      "text/plain": [
       "95158547"
      ]
     },
     "execution_count": 4,
     "metadata": {},
     "output_type": "execute_result"
    }
   ],
   "source": [
    "result = query(\n",
    "    core=\"experiment\",\n",
    "    query={\"query\": \"*:*\", 'limit':0},\n",
    ")\n",
    "\n",
    "num_found = result['response']['numFound']\n",
    "\n",
    "num_found\n",
    "\n",
    "# 95,158,547"
   ]
  },
  {
   "cell_type": "code",
   "execution_count": null,
   "metadata": {},
   "outputs": [],
   "source": [
    "for field in fields:\n",
    "    \n",
    "    offset = 0\n",
    "    limit = int(1e7)\n",
    "\n",
    "    # while offset < num_found:\n",
    "    #     print(offset)\n",
    "    #     response = query(core='experiment', query={'query':'*:*', 'fields':field, 'limit': limit, 'offset':offset})\n",
    "    #     offset = offset + limit\n",
    "    result = query(core='experiment', query={'query':'*:*', 'fields':field, 'limit': num_found})\n",
    "    break\n",
    "\n",
    "_df = pd.DataFrame(result['response']['docs'])"
   ]
  },
  {
   "cell_type": "code",
   "execution_count": 1,
   "metadata": {},
   "outputs": [
    {
     "ename": "NameError",
     "evalue": "name '_df' is not defined",
     "output_type": "error",
     "traceback": [
      "\u001b[0;31m---------------------------------------------------------------------------\u001b[0m",
      "\u001b[0;31mNameError\u001b[0m                                 Traceback (most recent call last)",
      "Cell \u001b[0;32mIn[1], line 1\u001b[0m\n\u001b[0;32m----> 1\u001b[0m df \u001b[38;5;241m=\u001b[39m \u001b[43m_df\u001b[49m\u001b[38;5;241m.\u001b[39mcopy()\n\u001b[1;32m      3\u001b[0m df\n",
      "\u001b[0;31mNameError\u001b[0m: name '_df' is not defined"
     ]
    }
   ],
   "source": [
    "df = _df.copy()\n",
    "\n",
    "df"
   ]
  }
 ],
 "metadata": {
  "kernelspec": {
   "display_name": "impc_study",
   "language": "python",
   "name": "python3"
  },
  "language_info": {
   "codemirror_mode": {
    "name": "ipython",
    "version": 3
   },
   "file_extension": ".py",
   "mimetype": "text/x-python",
   "name": "python",
   "nbconvert_exporter": "python",
   "pygments_lexer": "ipython3",
   "version": "3.11.10"
  }
 },
 "nbformat": 4,
 "nbformat_minor": 2
}
